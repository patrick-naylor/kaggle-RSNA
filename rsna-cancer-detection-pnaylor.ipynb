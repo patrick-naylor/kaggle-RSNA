{
 "cells": [
  {
   "cell_type": "code",
   "execution_count": 1,
   "id": "4bfd8797",
   "metadata": {
    "execution": {
     "iopub.execute_input": "2022-12-29T00:54:04.891885Z",
     "iopub.status.busy": "2022-12-29T00:54:04.891359Z",
     "iopub.status.idle": "2022-12-29T00:54:16.485558Z",
     "shell.execute_reply": "2022-12-29T00:54:16.484235Z"
    },
    "papermill": {
     "duration": 11.603893,
     "end_time": "2022-12-29T00:54:16.488539",
     "exception": false,
     "start_time": "2022-12-29T00:54:04.884646",
     "status": "completed"
    },
    "tags": []
   },
   "outputs": [
    {
     "name": "stdout",
     "output_type": "stream",
     "text": [
      "Looking in links: ../input/rsna-wheels/\r\n",
      "Processing /kaggle/input/rsna-wheels/python_gdcm-3.0.20-cp37-cp37m-manylinux_2_17_x86_64.manylinux2014_x86_64.whl\r\n",
      "Processing /kaggle/input/rsna-wheels/pylibjpeg-1.4.0-py3-none-any.whl\r\n",
      "Requirement already satisfied: numpy in /opt/conda/lib/python3.7/site-packages (from pylibjpeg) (1.21.6)\r\n",
      "Installing collected packages: python-gdcm, pylibjpeg\r\n",
      "Successfully installed pylibjpeg-1.4.0 python-gdcm-3.0.20\r\n",
      "\u001b[33mWARNING: Running pip as the 'root' user can result in broken permissions and conflicting behaviour with the system package manager. It is recommended to use a virtual environment instead: https://pip.pypa.io/warnings/venv\u001b[0m\u001b[33m\r\n",
      "\u001b[0m"
     ]
    }
   ],
   "source": [
    "!pip install python-gdcm pylibjpeg --no-index --find-links \"../input/rsna-wheels/\""
   ]
  },
  {
   "cell_type": "code",
   "execution_count": 2,
   "id": "b0c14092",
   "metadata": {
    "execution": {
     "iopub.execute_input": "2022-12-29T00:54:16.499987Z",
     "iopub.status.busy": "2022-12-29T00:54:16.499631Z",
     "iopub.status.idle": "2022-12-29T00:55:01.222927Z",
     "shell.execute_reply": "2022-12-29T00:55:01.221927Z"
    },
    "papermill": {
     "duration": 44.7318,
     "end_time": "2022-12-29T00:55:01.225431",
     "exception": false,
     "start_time": "2022-12-29T00:54:16.493631",
     "status": "completed"
    },
    "tags": []
   },
   "outputs": [
    {
     "name": "stdout",
     "output_type": "stream",
     "text": [
      "Cloning into 'yolov5'...\r\n",
      "fatal: unable to access 'https://github.com/ultralytics/yolov5/': Could not resolve host: github.com\r\n",
      "[Errno 2] No such file or directory: 'yolov5'\n",
      "/kaggle/working\n",
      "\u001b[31mERROR: Could not open requirements file: [Errno 2] No such file or directory: 'requirements.txt'\u001b[0m\u001b[31m\r\n",
      "\u001b[0m\u001b[33mWARNING: There was an error checking the latest version of pip.\u001b[0m\u001b[33m\r\n",
      "\u001b[0mNote: you may need to restart the kernel to use updated packages.\n"
     ]
    }
   ],
   "source": [
    "!git clone https://github.com/ultralytics/yolov5  # clone\n",
    "%cd yolov5\n",
    "%pip install -qr requirements.txt  # install\n",
    "\n",
    "import torch\n",
    "\n",
    "device = torch.device('cuda')"
   ]
  },
  {
   "cell_type": "code",
   "execution_count": 3,
   "id": "319af12f",
   "metadata": {
    "execution": {
     "iopub.execute_input": "2022-12-29T00:55:01.236442Z",
     "iopub.status.busy": "2022-12-29T00:55:01.235726Z",
     "iopub.status.idle": "2022-12-29T00:55:04.220041Z",
     "shell.execute_reply": "2022-12-29T00:55:04.218851Z"
    },
    "papermill": {
     "duration": 2.992255,
     "end_time": "2022-12-29T00:55:04.222511",
     "exception": false,
     "start_time": "2022-12-29T00:55:01.230256",
     "status": "completed"
    },
    "tags": []
   },
   "outputs": [],
   "source": [
    "import pandas as pd\n",
    "from sklearn.metrics import f1_score\n",
    "import torch.nn as nn\n",
    "from torchvision import transforms\n",
    "import torch.optim as optim\n",
    "import numpy as np\n",
    "import os\n",
    "import pydicom\n",
    "from pydicom.pixel_data_handlers import apply_windowing\n",
    "import torch.nn.functional as F\n",
    "from torchmetrics.classification import BinaryF1Score"
   ]
  },
  {
   "cell_type": "code",
   "execution_count": 4,
   "id": "6cc1a5e2",
   "metadata": {
    "execution": {
     "iopub.execute_input": "2022-12-29T00:55:04.232761Z",
     "iopub.status.busy": "2022-12-29T00:55:04.232446Z",
     "iopub.status.idle": "2022-12-29T00:55:09.396709Z",
     "shell.execute_reply": "2022-12-29T00:55:09.395471Z"
    },
    "papermill": {
     "duration": 5.171625,
     "end_time": "2022-12-29T00:55:09.398750",
     "exception": false,
     "start_time": "2022-12-29T00:55:04.227125",
     "status": "completed"
    },
    "tags": []
   },
   "outputs": [
    {
     "name": "stderr",
     "output_type": "stream",
     "text": [
      "YOLOv5 🚀 2022-12-23 Python-3.7.12 torch-1.11.0 CUDA:0 (Tesla P100-PCIE-16GB, 16281MiB)\n",
      "\n",
      "Fusing layers... \n",
      "Model summary: 157 layers, 7012822 parameters, 0 gradients\n",
      "Adding AutoShape... \n"
     ]
    }
   ],
   "source": [
    "roi_extractor_model = torch.hub.load('/kaggle/input/yolov5-repo', 'custom', path='/kaggle/input/rsna-breast-cancer-detection-roi-model/rsna-roi-003.pt', source='local')"
   ]
  },
  {
   "cell_type": "markdown",
   "id": "2dddd642",
   "metadata": {
    "papermill": {
     "duration": 0.004888,
     "end_time": "2022-12-29T00:55:09.408537",
     "exception": false,
     "start_time": "2022-12-29T00:55:09.403649",
     "status": "completed"
    },
    "tags": []
   },
   "source": [
    "### "
   ]
  },
  {
   "cell_type": "code",
   "execution_count": 5,
   "id": "ff236192",
   "metadata": {
    "execution": {
     "iopub.execute_input": "2022-12-29T00:55:09.421471Z",
     "iopub.status.busy": "2022-12-29T00:55:09.419689Z",
     "iopub.status.idle": "2022-12-29T00:55:09.428169Z",
     "shell.execute_reply": "2022-12-29T00:55:09.427235Z"
    },
    "papermill": {
     "duration": 0.016908,
     "end_time": "2022-12-29T00:55:09.430257",
     "exception": false,
     "start_time": "2022-12-29T00:55:09.413349",
     "status": "completed"
    },
    "tags": []
   },
   "outputs": [],
   "source": [
    "# helper functions\n",
    "def read_dicom_with_windowing(dcm_file):\n",
    "    # from: https://www.kaggle.com/code/davidbroberts/mammography-apply-windowing/\n",
    "    im = pydicom.dcmread(dcm_file)\n",
    "    data = im.pixel_array\n",
    "    \n",
    "    # This line is the only difference in the two functions\n",
    "    data = apply_windowing(data, im)\n",
    "    \n",
    "    if im.PhotometricInterpretation == \"MONOCHROME1\":\n",
    "        data = np.amax(data) - data\n",
    "    else:\n",
    "        data = data - np.min(data)\n",
    "        \n",
    "    if np.max(data) != 0:\n",
    "        data = data / np.max(data)\n",
    "    data=(data * 255).astype(np.uint8)\n",
    "\n",
    "    return data"
   ]
  },
  {
   "cell_type": "code",
   "execution_count": 6,
   "id": "59d36427",
   "metadata": {
    "execution": {
     "iopub.execute_input": "2022-12-29T00:55:09.441269Z",
     "iopub.status.busy": "2022-12-29T00:55:09.440950Z",
     "iopub.status.idle": "2022-12-29T00:55:09.449239Z",
     "shell.execute_reply": "2022-12-29T00:55:09.448316Z"
    },
    "papermill": {
     "duration": 0.01598,
     "end_time": "2022-12-29T00:55:09.451091",
     "exception": false,
     "start_time": "2022-12-29T00:55:09.435111",
     "status": "completed"
    },
    "tags": []
   },
   "outputs": [],
   "source": [
    "def crop_yolo_ROI(image):\n",
    "    # https://www.kaggle.com/code/remekkinas/breast-cancer-roi-brest-extractor/notebook\n",
    "    detections = roi_extractor_model(image)\n",
    "    \n",
    "    bbox_df = detections.pandas().xyxy[0]\n",
    "    bbox_df.drop([\"name\"], axis=1, inplace=True)\n",
    "    bboxes = bbox_df.astype(int).to_dict(orient=\"records\")\n",
    "    \n",
    "    if len(bboxes) == 0:\n",
    "        return image\n",
    "    \n",
    "    if len(bboxes) != 1:\n",
    "        print(bboxes)\n",
    "        print(\"More than one ROI detected\")\n",
    "\n",
    "    bbox = bboxes[0]\n",
    "    \n",
    "    image = image[bbox[\"ymin\"]:bbox[\"ymax\"], bbox[\"xmin\"]:bbox[\"xmax\"]]\n",
    "    return image"
   ]
  },
  {
   "cell_type": "code",
   "execution_count": 7,
   "id": "48133b0a",
   "metadata": {
    "execution": {
     "iopub.execute_input": "2022-12-29T00:55:09.461787Z",
     "iopub.status.busy": "2022-12-29T00:55:09.461242Z",
     "iopub.status.idle": "2022-12-29T00:55:09.473787Z",
     "shell.execute_reply": "2022-12-29T00:55:09.472930Z"
    },
    "papermill": {
     "duration": 0.020108,
     "end_time": "2022-12-29T00:55:09.475843",
     "exception": false,
     "start_time": "2022-12-29T00:55:09.455735",
     "status": "completed"
    },
    "tags": []
   },
   "outputs": [],
   "source": [
    "class BreastCancerDataset(torch.utils.data.Dataset):\n",
    "    # image to cancer\n",
    "    def __init__(self, df, dataset_folder, transform=None):\n",
    "        self.dataset_folder = dataset_folder\n",
    "        self.transform = transform\n",
    "        \n",
    "        if \"breast_id\" not in df.columns:\n",
    "            df[\"breast_id\"] = df[\"patient_id\"].astype(str) + \"_\" + df[\"laterality\"]\n",
    "\n",
    "        if \"image_path\" not in df.columns:\n",
    "            df[\"image_path\"] = df[\"patient_id\"].astype(str) + \"/\" + df[\"image_id\"].astype(str) + \".dcm\"\n",
    "\n",
    "        self.df = df\n",
    "        if 'cancer' in self.df.columns:\n",
    "            self.subset = 'train'\n",
    "        else:\n",
    "            self.subset = 'test'\n",
    "\n",
    "    def __len__(self):\n",
    "        return len(self.df.groupby(\"breast_id\"))\n",
    "\n",
    "    def __getitem__(self, idx):\n",
    "        # return MLO and CC images from given breast\n",
    "        breast_id = self.df[\"breast_id\"].unique()[idx]\n",
    "        breast_df = self.df[self.df[\"breast_id\"] == breast_id]\n",
    "        \n",
    "        MLO = breast_df[breast_df[\"view\"] == \"MLO\"]\n",
    "        CC = breast_df[breast_df[\"view\"] == \"CC\"]\n",
    "\n",
    "        MLO_image_path = os.path.join(self.dataset_folder, self.subset+ \"_images\", MLO[\"image_path\"].values[0])\n",
    "        CC_image_path = os.path.join(self.dataset_folder, self.subset+ \"_images\", CC[\"image_path\"].values[0])\n",
    "\n",
    "        MLO_image = read_dicom_with_windowing(MLO_image_path)\n",
    "        CC_image = read_dicom_with_windowing(CC_image_path)\n",
    "        \n",
    "        MLO_image = crop_yolo_ROI(MLO_image)\n",
    "        CC_image = crop_yolo_ROI(CC_image)\n",
    "\n",
    "        MLO_image = torch.from_numpy(MLO_image)\n",
    "        CC_image = torch.from_numpy(CC_image)\n",
    "        \n",
    "        if self.transform:  # normalization and augmentation are in here\n",
    "            MLO_image = self.transform(MLO_image)\n",
    "            CC_image = self.transform(CC_image)\n",
    "        \n",
    "        # add these images into a 2 channel image\n",
    "        image = torch.cat([MLO_image, CC_image], dim=0)\n",
    "\n",
    "        if self.subset == 'train':\n",
    "            label = breast_df['cancer'].values[0]\n",
    "            return image, label\n",
    "        \n",
    "        \n",
    "        return image"
   ]
  },
  {
   "cell_type": "code",
   "execution_count": 8,
   "id": "9228f457",
   "metadata": {
    "execution": {
     "iopub.execute_input": "2022-12-29T00:55:09.486351Z",
     "iopub.status.busy": "2022-12-29T00:55:09.485434Z",
     "iopub.status.idle": "2022-12-29T00:55:09.707831Z",
     "shell.execute_reply": "2022-12-29T00:55:09.706812Z"
    },
    "papermill": {
     "duration": 0.230463,
     "end_time": "2022-12-29T00:55:09.710703",
     "exception": false,
     "start_time": "2022-12-29T00:55:09.480240",
     "status": "completed"
    },
    "tags": []
   },
   "outputs": [],
   "source": [
    "train_df = pd.read_csv('/kaggle/input/rsna-breast-cancer-detection/train.csv')\n",
    "test_df = pd.read_csv('/kaggle/input/rsna-breast-cancer-detection/test.csv')\n",
    "\n",
    "dataset_folder = '/kaggle/input/rsna-breast-cancer-detection'\n",
    "\n",
    "transform = transforms.Compose([ # also add augmentation\n",
    "    transforms.ToPILImage(),\n",
    "    transforms.Resize((100, 100)),\n",
    "    transforms.ToTensor(),\n",
    "])\n",
    "\n",
    "train_dataset = BreastCancerDataset(train_df, dataset_folder, transform=transform)\n",
    "test_dataset = BreastCancerDataset(test_df, dataset_folder, transform=transform)"
   ]
  },
  {
   "cell_type": "code",
   "execution_count": 9,
   "id": "d9acff1a",
   "metadata": {
    "execution": {
     "iopub.execute_input": "2022-12-29T00:55:09.724238Z",
     "iopub.status.busy": "2022-12-29T00:55:09.723199Z",
     "iopub.status.idle": "2022-12-29T00:55:09.737624Z",
     "shell.execute_reply": "2022-12-29T00:55:09.736506Z"
    },
    "papermill": {
     "duration": 0.023529,
     "end_time": "2022-12-29T00:55:09.740612",
     "exception": false,
     "start_time": "2022-12-29T00:55:09.717083",
     "status": "completed"
    },
    "tags": []
   },
   "outputs": [
    {
     "name": "stdout",
     "output_type": "stream",
     "text": [
      "   site_id  patient_id    image_id laterality view  ...  implant  machine_id  \\\n",
      "0        2       10008   736471439          L  MLO  ...        0          21   \n",
      "1        2       10008  1591370361          L   CC  ...        0          21   \n",
      "2        2       10008    68070693          R  MLO  ...        0          21   \n",
      "3        2       10008   361203119          R   CC  ...        0          21   \n",
      "\n",
      "   prediction_id breast_id            image_path  \n",
      "0        10008_L   10008_L   10008/736471439.dcm  \n",
      "1        10008_L   10008_L  10008/1591370361.dcm  \n",
      "2        10008_R   10008_R    10008/68070693.dcm  \n",
      "3        10008_R   10008_R   10008/361203119.dcm  \n",
      "\n",
      "[4 rows x 11 columns]\n",
      "Index(['site_id', 'patient_id', 'image_id', 'laterality', 'view', 'age',\n",
      "       'cancer', 'biopsy', 'invasive', 'BIRADS', 'implant', 'density',\n",
      "       'machine_id', 'difficult_negative_case', 'breast_id', 'image_path'],\n",
      "      dtype='object')\n"
     ]
    }
   ],
   "source": [
    "print(test_df)\n",
    "print(train_df.columns)"
   ]
  },
  {
   "cell_type": "code",
   "execution_count": 10,
   "id": "46adc813",
   "metadata": {
    "execution": {
     "iopub.execute_input": "2022-12-29T00:55:09.751564Z",
     "iopub.status.busy": "2022-12-29T00:55:09.751244Z",
     "iopub.status.idle": "2022-12-29T00:56:31.962844Z",
     "shell.execute_reply": "2022-12-29T00:56:31.961844Z"
    },
    "papermill": {
     "duration": 82.226086,
     "end_time": "2022-12-29T00:56:31.971406",
     "exception": false,
     "start_time": "2022-12-29T00:55:09.745320",
     "status": "completed"
    },
    "tags": []
   },
   "outputs": [
    {
     "name": "stdout",
     "output_type": "stream",
     "text": [
      "torch.Size([32, 2, 100, 100]) torch.Size([32])\n"
     ]
    }
   ],
   "source": [
    "# plot first batch\n",
    "batch_size = 32\n",
    "train_loader = torch.utils.data.DataLoader(train_dataset, batch_size=batch_size, shuffle=True)\n",
    "test_loader = torch.utils.data.DataLoader(test_dataset, batch_size = 4, shuffle=False)\n",
    "images, labels = next(iter(train_loader))\n",
    "\n",
    "print(images.shape, labels.shape)"
   ]
  },
  {
   "cell_type": "code",
   "execution_count": 11,
   "id": "aa096415",
   "metadata": {
    "execution": {
     "iopub.execute_input": "2022-12-29T00:56:31.983442Z",
     "iopub.status.busy": "2022-12-29T00:56:31.983136Z",
     "iopub.status.idle": "2022-12-29T00:56:31.992374Z",
     "shell.execute_reply": "2022-12-29T00:56:31.991509Z"
    },
    "papermill": {
     "duration": 0.017554,
     "end_time": "2022-12-29T00:56:31.994587",
     "exception": false,
     "start_time": "2022-12-29T00:56:31.977033",
     "status": "completed"
    },
    "tags": []
   },
   "outputs": [],
   "source": [
    "\n",
    "class CNN(nn.Module):\n",
    "    def __init__(self):\n",
    "        super(CNN, self).__init__()\n",
    "        input_size = 100*100*.25*.25*12\n",
    "        self.conv1 = nn.Conv2d(2, 6, 5, padding='same')\n",
    "        self.pool = nn.MaxPool2d(2, 2)\n",
    "        self.conv2 = nn.Conv2d(6, 12, 5, padding='same')\n",
    "        self.fc1 = nn.Linear(int(input_size), int(input_size * .33))\n",
    "        #self.fc2 = nn.Linear(int(input_size*.33), int(input_size * .33**2))\n",
    "        self.fc3 = nn.Linear(int(input_size * .33), 1)\n",
    "        \n",
    "    def forward(self, x):\n",
    "        x = self.pool(F.relu(self.conv1(x)))\n",
    "        x = self.pool(F.relu(self.conv2(x)))\n",
    "        x = torch.flatten(x, 1)\n",
    "        x = F.relu(self.fc1(x))\n",
    "        x = F.sigmoid(self.fc3(x))\n",
    "        x = torch.flatten(x)\n",
    "        return x"
   ]
  },
  {
   "cell_type": "code",
   "execution_count": 12,
   "id": "cd57d657",
   "metadata": {
    "execution": {
     "iopub.execute_input": "2022-12-29T00:56:32.005437Z",
     "iopub.status.busy": "2022-12-29T00:56:32.005126Z",
     "iopub.status.idle": "2022-12-29T00:56:32.206110Z",
     "shell.execute_reply": "2022-12-29T00:56:32.205073Z"
    },
    "papermill": {
     "duration": 0.209369,
     "end_time": "2022-12-29T00:56:32.208724",
     "exception": false,
     "start_time": "2022-12-29T00:56:31.999355",
     "status": "completed"
    },
    "tags": []
   },
   "outputs": [],
   "source": [
    "cnn_model = CNN().to(device)\n",
    "criterion = nn.BCELoss()\n",
    "optimizer = optim.SGD(cnn_model.parameters(), lr=.001, momentum=.9)"
   ]
  },
  {
   "cell_type": "code",
   "execution_count": 13,
   "id": "30e161fa",
   "metadata": {
    "execution": {
     "iopub.execute_input": "2022-12-29T00:56:32.220073Z",
     "iopub.status.busy": "2022-12-29T00:56:32.219692Z",
     "iopub.status.idle": "2022-12-29T03:20:28.661679Z",
     "shell.execute_reply": "2022-12-29T03:20:28.659608Z"
    },
    "papermill": {
     "duration": 8636.451455,
     "end_time": "2022-12-29T03:20:28.665129",
     "exception": false,
     "start_time": "2022-12-29T00:56:32.213674",
     "status": "completed"
    },
    "tags": []
   },
   "outputs": [
    {
     "name": "stdout",
     "output_type": "stream",
     "text": [
      "Epoch [1/1], 1/745, Loss: 0.6945, F1: 0.0000\n",
      "Epoch [1/1], 6/745, Loss: 0.6676, F1: 0.0000\n",
      "Epoch [1/1], 11/745, Loss: 0.5997, F1: 0.0000\n",
      "Epoch [1/1], 16/745, Loss: 0.5345, F1: 0.0000\n",
      "Epoch [1/1], 21/745, Loss: 0.4078, F1: 0.0000\n",
      "Epoch [1/1], 26/745, Loss: 0.2120, F1: 0.0000\n",
      "Epoch [1/1], 31/745, Loss: 0.0822, F1: 0.0000\n",
      "[{'xmin': 1853, 'ymin': 551, 'xmax': 3304, 'ymax': 2880, 'confidence': 0, 'class': 0}, {'xmin': 2145, 'ymin': 2975, 'xmax': 3328, 'ymax': 4096, 'confidence': 0, 'class': 0}]\n",
      "More than one ROI detected\n",
      "Epoch [1/1], 36/745, Loss: 0.0218, F1: 0.0000\n",
      "Epoch [1/1], 41/745, Loss: 0.0089, F1: 0.0000\n",
      "Epoch [1/1], 46/745, Loss: 0.3428, F1: 0.0000\n",
      "Epoch [1/1], 51/745, Loss: 0.0086, F1: 0.0000\n",
      "Epoch [1/1], 56/745, Loss: 0.0104, F1: 0.0000\n",
      "Epoch [1/1], 61/745, Loss: 0.2685, F1: 0.0000\n",
      "Epoch [1/1], 66/745, Loss: 0.2739, F1: 0.0000\n",
      "Epoch [1/1], 71/745, Loss: 0.0212, F1: 0.0000\n",
      "[{'xmin': 950, 'ymin': 793, 'xmax': 1905, 'ymax': 2268, 'confidence': 0, 'class': 0}, {'xmin': 902, 'ymin': 35, 'xmax': 1895, 'ymax': 876, 'confidence': 0, 'class': 0}]\n",
      "More than one ROI detected\n",
      "Epoch [1/1], 76/745, Loss: 0.0265, F1: 0.0000\n",
      "Epoch [1/1], 81/745, Loss: 0.0271, F1: 0.0000\n",
      "Epoch [1/1], 86/745, Loss: 0.0348, F1: 0.0000\n",
      "Epoch [1/1], 91/745, Loss: 0.1207, F1: 0.0000\n",
      "Epoch [1/1], 96/745, Loss: 0.2436, F1: 0.0000\n",
      "Epoch [1/1], 101/745, Loss: 0.1518, F1: 0.0000\n",
      "Epoch [1/1], 106/745, Loss: 0.0269, F1: 0.0000\n",
      "Epoch [1/1], 111/745, Loss: 0.0178, F1: 0.0000\n"
     ]
    }
   ],
   "source": [
    "num_epochs = 1\n",
    "n_total_steps = len(train_loader)\n",
    "for epoch in range(num_epochs):\n",
    "    f1 = 0\n",
    "    for idx, (image, target) in enumerate(train_loader):\n",
    "        target = target.to(device)\n",
    "        image = image.to(device)\n",
    "        outputs=cnn_model(image)\n",
    "\n",
    "        loss = criterion(outputs, target.float())\n",
    "\n",
    "        optimizer.zero_grad()\n",
    "        loss.backward()\n",
    "        optimizer.step()\n",
    "        output_binary = torch.Tensor.cpu(outputs).detach().numpy()\n",
    "        output_binary[output_binary > .5] = 1\n",
    "        output_binary[output_binary<=.5] = 0\n",
    "        f1 += f1_score(output_binary, torch.Tensor.cpu(target).numpy())\n",
    "        if idx%5 == 0:\n",
    "            print(f'Epoch [{epoch+1}/{num_epochs}], {idx+1}/{n_total_steps}, Loss: {loss.item():.4f}, F1: {f1/(5):.4f}')\n",
    "            f1 = 0\n",
    "        if idx > 110:\n",
    "            break"
   ]
  },
  {
   "cell_type": "code",
   "execution_count": 14,
   "id": "99de3d94",
   "metadata": {
    "execution": {
     "iopub.execute_input": "2022-12-29T03:20:28.682357Z",
     "iopub.status.busy": "2022-12-29T03:20:28.681970Z",
     "iopub.status.idle": "2022-12-29T03:20:31.484182Z",
     "shell.execute_reply": "2022-12-29T03:20:31.482717Z"
    },
    "papermill": {
     "duration": 2.813333,
     "end_time": "2022-12-29T03:20:31.486635",
     "exception": false,
     "start_time": "2022-12-29T03:20:28.673302",
     "status": "completed"
    },
    "tags": []
   },
   "outputs": [
    {
     "name": "stdout",
     "output_type": "stream",
     "text": [
      "[  0.0069687    0.010756]\n",
      "  prediction_id    cancer\n",
      "0       10008_L  0.006969\n",
      "1       10008_R  0.010756\n"
     ]
    }
   ],
   "source": [
    "with torch.no_grad():\n",
    "    for images in test_loader:\n",
    "        images = images.to(device)\n",
    "        outputs = cnn_model(images)\n",
    "outputs = torch.Tensor.cpu(outputs).numpy()\n",
    "print(outputs)\n",
    "submission = {}\n",
    "submission['prediction_id'] = ['10008_L', '10008_R']\n",
    "submission['cancer'] = outputs\n",
    "submission_df = pd.DataFrame(submission)\n",
    "print(submission_df)\n",
    "submission_df.to_csv('submission.csv', index=False)\n"
   ]
  },
  {
   "cell_type": "code",
   "execution_count": null,
   "id": "436b6441",
   "metadata": {
    "papermill": {
     "duration": 0.006129,
     "end_time": "2022-12-29T03:20:31.498758",
     "exception": false,
     "start_time": "2022-12-29T03:20:31.492629",
     "status": "completed"
    },
    "tags": []
   },
   "outputs": [],
   "source": []
  }
 ],
 "metadata": {
  "kernelspec": {
   "display_name": "Python 3",
   "language": "python",
   "name": "python3"
  },
  "language_info": {
   "codemirror_mode": {
    "name": "ipython",
    "version": 3
   },
   "file_extension": ".py",
   "mimetype": "text/x-python",
   "name": "python",
   "nbconvert_exporter": "python",
   "pygments_lexer": "ipython3",
   "version": "3.7.12"
  },
  "papermill": {
   "default_parameters": {},
   "duration": 8796.909168,
   "end_time": "2022-12-29T03:20:34.068322",
   "environment_variables": {},
   "exception": null,
   "input_path": "__notebook__.ipynb",
   "output_path": "__notebook__.ipynb",
   "parameters": {},
   "start_time": "2022-12-29T00:53:57.159154",
   "version": "2.3.4"
  }
 },
 "nbformat": 4,
 "nbformat_minor": 5
}
